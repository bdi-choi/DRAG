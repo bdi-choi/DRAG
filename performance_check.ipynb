{
 "cells": [
  {
   "cell_type": "code",
   "execution_count": 1,
   "metadata": {},
   "outputs": [],
   "source": [
    "import numpy as np\n",
    "import pandas as pd\n",
    "import utils"
   ]
  },
  {
   "cell_type": "code",
   "execution_count": null,
   "metadata": {},
   "outputs": [],
   "source": [
    "dataset = 'amazon_new'\n",
    "train_ratio = '01'\n",
    "exp_result_path = \"./temp_results\"\n",
    "utils.collect_results(exp_result_path)\n",
    "exp_ids = utils.get_best_exp_ids(exp_result_path, dataset, train_ratio)\n",
    "df = utils.get_test_results(exp_result_path, exp_ids)\n",
    "df"
   ]
  },
  {
   "cell_type": "code",
   "execution_count": null,
   "metadata": {},
   "outputs": [],
   "source": [
    "print(f\"====== {dataset} {float(train_ratio)*10}% ======\")\n",
    "print(f\"F1-macro: {df['f1_macro'].mean():.4f} ± {df['f1_macro'].std():.4f}\")\n",
    "print(f\"AUC: {df['auc'].mean():.4f} ± {df['auc'].std():.4f}\")"
   ]
  }
 ],
 "metadata": {
  "kernelspec": {
   "display_name": "FDS2",
   "language": "python",
   "name": "python3"
  },
  "language_info": {
   "codemirror_mode": {
    "name": "ipython",
    "version": 3
   },
   "file_extension": ".py",
   "mimetype": "text/x-python",
   "name": "python",
   "nbconvert_exporter": "python",
   "pygments_lexer": "ipython3",
   "version": "3.8.16"
  },
  "orig_nbformat": 4
 },
 "nbformat": 4,
 "nbformat_minor": 2
}
